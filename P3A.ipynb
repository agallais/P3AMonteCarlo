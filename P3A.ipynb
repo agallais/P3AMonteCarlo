{
 "cells": [
  {
   "cell_type": "code",
   "execution_count": 1,
   "metadata": {
    "collapsed": true
   },
   "outputs": [],
   "source": [
    "import numpy as np\n",
    "\n",
    "import matplotlib.pyplot as plt\n"
   ]
  },
  {
   "cell_type": "code",
   "execution_count": 2,
   "metadata": {
    "collapsed": true
   },
   "outputs": [],
   "source": [
    "\n",
    "r = 0.05\n",
    "kappa = 0.5\n",
    "sigma = 0.5\n",
    "theta = 0.9\n",
    "\n",
    "rho = 0.2\n",
    "\n",
    "nu = 1\n",
    "S0 = 1\n"
   ]
  },
  {
   "cell_type": "code",
   "execution_count": 3,
   "metadata": {
    "collapsed": true
   },
   "outputs": [],
   "source": [
    "def heston_model(r, kappa, sigma, theta, rho, nu, M, n):\n",
    "    dt = 2 ** (-n)\n",
    "    S = S0 * np.ones(M)\n",
    "    Nu = nu * np.ones(M)\n",
    "\n",
    "    for i in range(2 ** n):\n",
    "        dW1 = np.random.normal(0, 1, M).astype('float64') * np.sqrt(dt)\n",
    "        dW2 = rho * dW1 + (1 - rho) * np.random.normal(0, 1, M).astype('float64') * np.sqrt(dt)\n",
    "        S = S + (r * dt * S) + np.sqrt(Nu) * S * dW1\n",
    "\n",
    "        Nu = (Nu + kappa * dt * (theta - Nu) + sigma * np.sqrt(Nu) * dW2).clip(0)\n",
    "        # nu = max(nu + kappa * (theta - nu) * dt + zeta * np.sqrt(nu)*dW2 , 0)\n",
    "\n",
    "    return np.mean(S)\n"
   ]
  },
  {
   "cell_type": "code",
   "execution_count": 35,
   "metadata": {
    "collapsed": true
   },
   "outputs": [],
   "source": [
    "def heston_multipas(r, kappa, sigma, theta, rho, nu, L, l):\n",
    "    dt = 2 ** (-l)\n",
    "\n",
    "    M = 100000\n",
    "\n",
    "    S = S0 * np.ones(M)\n",
    "    S1 = S0 * np.ones(M)\n",
    "    S2 = S0 * np.ones(M)\n",
    "\n",
    "    Nu = nu * np.ones(M)\n",
    "    Nu1 = nu * np.ones(M)\n",
    "    Nu2 = nu * np.ones(M)\n",
    "\n",
    "    print(dt)\n",
    "    for i in range(2 ** (l - 1)):\n",
    "        dW1 = np.random.normal(0, 1, [2, M]).astype('float64') * np.sqrt(dt)\n",
    "        dW2 = rho * dW1 + (1 - rho) * np.random.normal(0, 1, [2, M]).astype('float64') * np.sqrt(dt)\n",
    "\n",
    "        Nu = (Nu + kappa * 2 * dt * (theta - Nu) + sigma * np.sqrt(Nu) * (dW2[0] + dW2[1])).clip(0)\n",
    "        S = S + (r * 2 * dt * S) + np.sqrt(Nu) * S * (dW1[0] + dW1[1])\n",
    "\n",
    "        Nu1 = (Nu1 + kappa * dt * (theta - Nu1) + sigma * np.sqrt(Nu1) * dW2[0]).clip(0)\n",
    "        S1 = S1 + (r * dt * S1) + np.sqrt(Nu1) * S1 * dW1[0]\n",
    "\n",
    "        Nu1 = (Nu1 + kappa * dt * (theta - Nu1) + sigma * np.sqrt(Nu1) * dW2[1]).clip(0)\n",
    "        S1 = S1 + (r * dt * S1) + np.sqrt(Nu1) * S1 * dW1[1]\n",
    "\n",
    "        Nu2 = (Nu2 + kappa * dt * (theta - Nu2) + sigma * np.sqrt(Nu2) * dW2[1]).clip(0)\n",
    "        S2 = S2 + (r * dt * S2) + np.sqrt(Nu2) * S2 * dW1[1]\n",
    "\n",
    "        Nu2 = (Nu2 + kappa * dt * (theta - Nu2) + sigma * np.sqrt(Nu2) * dW2[0]).clip(0)\n",
    "        S2 = S2 + (r * dt * S2) + np.sqrt(Nu2) * S2 * dW1[0]\n",
    "\n",
    "    Sant = 0.5 * (S1.clip(1) + S2.clip(1))\n",
    "    var0 = np.mean(S.clip(1))\n",
    "    var1 = np.mean(S.clip(1) - S1.clip(1))\n",
    "    # var2 = np.var(Sant)\n",
    "    var3 = np.mean(S.clip(1) - Sant.clip(1))\n",
    "    print(np.mean(S), np.mean(S1), np.mean(S - Sant))\n",
    "    print(var0, var1, var3)\n",
    "    return var0, var1, var3 \n"
   ]
  },
  {
   "cell_type": "code",
   "execution_count": 41,
   "metadata": {
    "collapsed": true
   },
   "outputs": [],
   "source": [
    "def heston_milstein_multilevel(r, kappa, sigma, theta, rho, nu, L, l):\n",
    "    print(\"heston milstein\")\n",
    "    dt = 2 ** (-l)\n",
    "\n",
    "    M = 1000000\n",
    "\n",
    "    S = np.log(S0) * np.ones(M)\n",
    "    S1 = np.log(S0) * np.ones(M)\n",
    "    S2 = np.log(S0) * np.ones(M)\n",
    "\n",
    "    Nu = nu * np.ones(M)\n",
    "    Nu1 = nu * np.ones(M)\n",
    "    Nu2 = nu * np.ones(M)\n",
    "\n",
    "    print(dt)\n",
    "    for i in range(2 ** (l - 1)):\n",
    "        dW1 = np.random.normal(0, 1, [2, M]).astype('float64') * np.sqrt(dt)\n",
    "        dW2 = np.random.normal(0, 1, [2, M]).astype('float64') * np.sqrt(dt)\n",
    "\n",
    "        dWg1 = dW1[0] + dW1[1]\n",
    "\n",
    "        dWg2 = dW2[0] + dW2[1]\n",
    "\n",
    "        Nu = (Nu + kappa * 2 * dt * (theta - Nu) + sigma * np.sqrt(Nu) * (dWg2) + 0.5 * sigma ** 4 * (\n",
    "        dWg2 ** 2 - 2 * dt)).clip(0)\n",
    "        S = S + (r * 2*dt * S) + np.sqrt(Nu) * dWg1 + 0.25 * S**2 * (dWg1**2 - 2*dt)\n",
    "\n",
    "        Nu1 = (Nu1 + kappa * dt * (theta - Nu1) + sigma * np.sqrt(Nu1) * dW2[0] + 0.5 * sigma ** 4 * (\n",
    "            (dW2[0]) ** 2 - dt)).clip(0)\n",
    "        S1 = S1 + (r * dt * S1) + np.sqrt(Nu1) * dW1[0] + 0.25 * (S**2) * (dW1[0]**2 - dt)\n",
    "\n",
    "        Nu1 = (Nu1 + kappa * dt * (theta - Nu1) + sigma * np.sqrt(Nu1) * dW2[1] + 0.5 * sigma ** 4 * (\n",
    "            (dW2[1]) ** 2 - dt)).clip(0)\n",
    "        S1 = S1 + (r * dt * S1) + np.sqrt(Nu1) * dW1[1] + 0.25 * (S**2) * (dW1[1]**2 - dt)\n",
    "\n",
    "        Nu2 = (Nu2 + kappa * dt * (theta - Nu2) + sigma * np.sqrt(Nu2) * dW2[1] + 0.5 * sigma ** 4 * (\n",
    "            (dW2[1]) ** 2 - dt)).clip(0)\n",
    "        S2 = S2 + (r * dt * S2) + np.sqrt(Nu2) * dW1[1] + 0.25 * (S**2) * (dW1[1]**2 - dt)\n",
    "\n",
    "        Nu2 = (Nu2 + kappa * dt * (theta - Nu2) + sigma * np.sqrt(Nu2) * dW2[0] + 0.5 * sigma ** 4 * (\n",
    "            (dW2[0]) ** 2 - dt)).clip(0)\n",
    "        S2 = S2 + (r * dt * S2) + np.sqrt(Nu2) * dW1[0] + 0.25 * (S**2) * (dW1[0]**2 - dt)\n",
    "\n",
    "    \n",
    "    Sant = 0.5 * (S1 + S2)\n",
    "    var0 = np.var((S-1).clip(0))\n",
    "    var1 = np.var((S-1).clip(0) - (S1-1).clip(0))\n",
    "    var2 = np.var((S-1).clip(0) - (Sant-1).clip(0))\n",
    "    mean0 = np.mean((S-1).clip(0))\n",
    "    mean1 = np.mean((S-1).clip(0) - (S1-1).clip(0))\n",
    "    mean2 = np.mean((S-1).clip(0) - (Sant-1).clip(0))\n",
    "    \n",
    "    print(mean0, mean1, mean2)\n",
    "    print(var0, var1, var2)\n",
    "    return mean0, mean1, mean2\n"
   ]
  },
  {
   "cell_type": "code",
   "execution_count": 47,
   "metadata": {
    "collapsed": false
   },
   "outputs": [
    {
     "name": "stdout",
     "output_type": "stream",
     "text": [
      "heston milstein\n",
      "0.5\n",
      "0.079666390085 -0.159039008567 -0.158492822758\n",
      "0.076993037915 1.045824759 1.04434358991\n",
      "heston milstein\n",
      "0.25\n",
      "0.085081145208 -0.0782507046315 -0.0778861332342\n",
      "0.100858079554 0.352304486659 0.351511557514\n",
      "heston milstein\n",
      "0.125\n",
      "0.0852215320987 -0.0391220307629 -0.0389294975341\n",
      "0.10166531021 0.828839380877 0.833487333681\n",
      "heston milstein\n",
      "0.0625\n",
      "0.0855774676561 -0.0185870657193 -0.01846477015\n",
      "0.08820653497 0.0121281915343 0.0119715085389\n",
      "heston milstein\n",
      "0.03125\n",
      "0.0866105545638 -0.009159624546 -0.00909105281418\n",
      "0.0839296278401 0.0028799545231 0.00279929289436\n",
      "heston milstein\n",
      "0.015625\n",
      "0.086826824242 -0.00449025540135 -0.00446662399192\n",
      "0.0797587750232 0.00113827334517 0.00109808961686\n",
      "heston milstein\n",
      "0.0078125\n",
      "0.0860270683424 -0.0022339322231 -0.00222276244736\n",
      "0.0769823569596 0.000518173836367 0.000498579868607\n",
      "heston milstein\n",
      "0.00390625\n",
      "0.0872244705069 -0.00109561368973 -0.0010833371274\n",
      "0.0773989002148 0.000258355371808 0.000247513113372\n",
      "heston milstein\n",
      "0.001953125\n",
      "0.0865623079086 -0.000544561084418 -0.000542166831576\n",
      "0.0761733251528 0.000127698217922 0.000122614450065\n",
      "heston milstein\n",
      "0.0009765625\n",
      "0.086620781597 -0.000278335168458 -0.000275633645457\n",
      "0.0759335624857 6.45144710913e-05 6.19961393313e-05\n"
     ]
    }
   ],
   "source": [
    "\n",
    "N = 10\n",
    "\n",
    "xaxis = np.arange(N) + 1\n",
    "var0 = np.zeros(N)\n",
    "var1 = np.zeros(N)\n",
    "var2 = np.zeros(N)\n",
    "\n",
    "for i in range(N):\n",
    "    res = heston_milstein_multilevel(r, kappa, sigma, theta, rho, nu, 15, xaxis[i])\n",
    "    var0[i] = res[0]\n",
    "    var1[i] = res[1]\n",
    "    var2[i] = res[2]\n",
    "\n"
   ]
  },
  {
   "cell_type": "code",
   "execution_count": 55,
   "metadata": {
    "collapsed": false
   },
   "outputs": [
    {
     "data": {
      "image/png": "[encoded data removed]",
      "text/plain": [
       "<matplotlib.figure.Figure at 0x7fa859551c88>"
      ]
     },
     "metadata": {},
     "output_type": "display_data"
    }
   ],
   "source": [
    "plt.figure()\n",
    "\n",
    "plt.plot(xaxis, np.log(abs(var0)), linewidth=0.8, marker=\"*\", label='$P_{l}$')\n",
    "plt.plot(xaxis, np.log(abs(var1)), linewidth=0.8, marker=\"+\", label='$P_{l} - P_{l-1} $')\n",
    "plt.plot(xaxis, np.log(abs(var2)), linewidth=0.8, marker=\"x\", label='$P^{ant}_{l} - P_{l-1}$')\n",
    "\n",
    "plt.xlabel('$level\\, l$')\n",
    "plt.ylabel('$log_{2}(mean)$')\n",
    "plt.legend(loc='best')\n",
    "\n",
    "plt.show()\n"
   ]
  },
  {
   "cell_type": "code",
   "execution_count": 50,
   "metadata": {
    "collapsed": false
   },
   "outputs": [
    {
     "name": "stdout",
     "output_type": "stream",
     "text": [
      "[-0.15849282 -0.07788613 -0.0389295  -0.01846477 -0.00909105 -0.00446662\n",
      " -0.00222276 -0.00108334 -0.00054217 -0.00027563]\n"
     ]
    }
   ],
   "source": [
    "print(var2)"
   ]
  },
  {
   "cell_type": "code",
   "execution_count": null,
   "metadata": {
    "collapsed": true
   },
   "outputs": [],
   "source": []
  }
 ],
 "metadata": {
  "anaconda-cloud": {},
  "kernelspec": {
   "display_name": "Python [conda root]",
   "language": "python",
   "name": "conda-root-py"
  },
  "language_info": {
   "codemirror_mode": {
    "name": "ipython",
    "version": 3
   },
   "file_extension": ".py",
   "mimetype": "text/x-python",
   "name": "python",
   "nbconvert_exporter": "python",
   "pygments_lexer": "ipython3",
   "version": "3.5.2"
  }
 },
 "nbformat": 4,
 "nbformat_minor": 1
}
